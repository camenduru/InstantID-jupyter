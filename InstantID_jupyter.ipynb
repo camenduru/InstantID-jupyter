{
  "cells": [
    {
      "cell_type": "markdown",
      "metadata": {
        "id": "view-in-github"
      },
      "source": [
        "[![Open In Colab](https://colab.research.google.com/assets/colab-badge.svg)](https://colab.research.google.com/github/camenduru/InstantID-jupyter/blob/main/InstantID_jupyter.ipynb)"
      ]
    },
    {
      "cell_type": "code",
      "execution_count": null,
      "metadata": {
        "id": "VjYy0F2gZIPR"
      },
      "outputs": [],
      "source": [
        "%cd /content\n",
        "!git clone -b dev https://github.com/camenduru/InstantID\n",
        "%cd /content/InstantID\n",
        "\n",
        "!apt -y install -qq aria2\n",
        "!aria2c --console-log-level=error -c -x 16 -s 16 -k 1M https://huggingface.co/InstantX/InstantID/raw/main/ControlNetModel/config.json -d /content/InstantID/checkpoints/ControlNetModel -o config.json\n",
        "!aria2c --console-log-level=error -c -x 16 -s 16 -k 1M https://huggingface.co/InstantX/InstantID/resolve/main/ControlNetModel/diffusion_pytorch_model.safetensors -d /content/InstantID/checkpoints/ControlNetModel -o diffusion_pytorch_model.safetensors\n",
        "!aria2c --console-log-level=error -c -x 16 -s 16 -k 1M https://huggingface.co/InstantX/InstantID/resolve/main/ip-adapter.bin -d /content/InstantID/checkpoints -o ip-adapter.bin\n",
        "\n",
        "!pip install -q insightface onnxruntime diffusers accelerate #gradio==4.14.0\n",
        "!pip install -q https://download.pytorch.org/whl/cu121/xformers-0.0.22.post7-cp310-cp310-manylinux2014_x86_64.whl"
      ]
    },
    {
      "cell_type": "code",
      "execution_count": null,
      "metadata": {},
      "outputs": [],
      "source": [
        "%cd /content/InstantID\n",
        "\n",
        "# !pip install opencv-python transformers accelerate insightface\n",
        "import diffusers\n",
        "from diffusers.utils import load_image\n",
        "from diffusers.models import ControlNetModel\n",
        "\n",
        "import cv2\n",
        "import torch\n",
        "import numpy as np\n",
        "from PIL import Image\n",
        "\n",
        "from insightface.app import FaceAnalysis\n",
        "from pipeline_stable_diffusion_xl_instantid import StableDiffusionXLInstantIDPipeline, draw_kps\n",
        "\n",
        "# prepare 'antelopev2' under ./models\n",
        "app = FaceAnalysis(name='buffalo_l', root='./', providers=['CUDAExecutionProvider', 'CPUExecutionProvider'])\n",
        "app.prepare(ctx_id=0, det_size=(640, 640))\n",
        "\n",
        "# prepare models under ./checkpoints\n",
        "face_adapter = f'./checkpoints/ip-adapter.bin'\n",
        "controlnet_path = f'./checkpoints/ControlNetModel'\n",
        "\n",
        "# load IdentityNet\n",
        "controlnet = ControlNetModel.from_pretrained(controlnet_path, torch_dtype=torch.float16)\n",
        "\n",
        "pipe = StableDiffusionXLInstantIDPipeline.from_pretrained(\"stabilityai/stable-diffusion-xl-base-1.0\", variant='fp16', controlnet=controlnet, torch_dtype=torch.float16)\n",
        "pipe.cuda()\n",
        "\n",
        "# load adapter\n",
        "pipe.load_ip_adapter_instantid(face_adapter)\n"
      ]
    },
    {
      "cell_type": "code",
      "execution_count": null,
      "metadata": {},
      "outputs": [],
      "source": [
        "# load an image\n",
        "image = load_image(\"https://raw.githubusercontent.com/camenduru/InstantID/dev/examples/schmidhuber_resize.png\")\n",
        "\n",
        "# prepare face emb\n",
        "face_info = app.get(cv2.cvtColor(np.array(face_image), cv2.COLOR_RGB2BGR))\n",
        "face_info = sorted(face_info, key=lambda x:(x['bbox'][2]-x['bbox'][0])*x['bbox'][3]-x['bbox'][1])[-1] # only use the maximum face\n",
        "face_emb = face_info['embedding']\n",
        "face_kps = draw_kps(face_image, face_info['kps'])\n",
        "\n",
        "pipe.set_ip_adapter_scale(0.8)\n",
        "\n",
        "prompt = \"analog film photo of a man. faded film, desaturated, 35mm photo, grainy, vignette, vintage, Kodachrome, Lomography, stained, highly detailed, found footage, masterpiece, best quality\"\n",
        "negative_prompt = \"(lowres, low quality, worst quality:1.2), (text:1.2), watermark, painting, drawing, illustration, glitch, deformed, mutated, cross-eyed, ugly, disfigured (lowres, low quality, worst quality:1.2), (text:1.2), watermark, painting, drawing, illustration, glitch,deformed, mutated, cross-eyed, ugly, disfigured\"\n",
        "\n",
        "# generate image\n",
        "image = pipe(prompt, image_embeds=face_emb, image=face_kps, controlnet_conditioning_scale=0.8).images[0]"
      ]
    }
  ],
  "metadata": {
    "accelerator": "GPU",
    "colab": {
      "gpuType": "T4",
      "provenance": []
    },
    "kernelspec": {
      "display_name": "Python 3",
      "name": "python3"
    },
    "language_info": {
      "name": "python"
    }
  },
  "nbformat": 4,
  "nbformat_minor": 0
}
